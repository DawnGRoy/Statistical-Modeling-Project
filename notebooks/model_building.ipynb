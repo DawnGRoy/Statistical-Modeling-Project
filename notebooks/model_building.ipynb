{
 "cells": [
  {
   "cell_type": "markdown",
   "metadata": {},
   "source": [
    "Build a regression model."
   ]
  },
  {
   "cell_type": "code",
   "execution_count": 12,
   "metadata": {},
   "outputs": [],
   "source": [
    "import pandas as pd\n",
    "import numpy as np\n",
    "from sklearn.model_selection import train_test_split\n",
    "from sklearn.linear_model import LinearRegression\n",
    "from sklearn.metrics import mean_squared_error\n",
    "import matplotlib.pyplot as plt\n",
    "import seaborn as sb\n",
    "df1 = pd.read_csv(\"pubs_info.csv\")\n",
    "df2 = pd.read_csv(\"station_details.csv\")\n",
    "df3 = pd.read_csv(\"yelp_results.csv\")\n",
    "merged_df= pd.merge(df1, df2, on='Station')\n",
    "merged_df = pd.merge(merged_df, df3, on=\"Station\")"
   ]
  },
  {
   "cell_type": "code",
   "execution_count": 24,
   "metadata": {},
   "outputs": [],
   "source": [
    "import statsmodels.api as sm\n",
    "X = sm.add_constant(X) # adding a constant\n",
    "lin_reg = sm.OLS(y,X['Free Bikes_y'])\n",
    "model = lin_reg.fit()\n",
    "print_model = model.summary()"
   ]
  },
  {
   "cell_type": "markdown",
   "metadata": {},
   "source": [
    "Provide model output and an interpretation of the results. "
   ]
  },
  {
   "cell_type": "code",
   "execution_count": 23,
   "metadata": {},
   "outputs": [
    {
     "name": "stdout",
     "output_type": "stream",
     "text": [
      "                                 OLS Regression Results                                \n",
      "=======================================================================================\n",
      "Dep. Variable:           Review Count   R-squared (uncentered):                   0.196\n",
      "Model:                            OLS   Adj. R-squared (uncentered):              0.185\n",
      "Method:                 Least Squares   F-statistic:                              16.85\n",
      "Date:                Tue, 19 Dec 2023   Prob (F-statistic):                    0.000109\n",
      "Time:                        20:00:45   Log-Likelihood:                         -538.96\n",
      "No. Observations:                  70   AIC:                                      1080.\n",
      "Df Residuals:                      69   BIC:                                      1082.\n",
      "Df Model:                           1                                                  \n",
      "Covariance Type:            nonrobust                                                  \n",
      "================================================================================\n",
      "                   coef    std err          t      P>|t|      [0.025      0.975]\n",
      "--------------------------------------------------------------------------------\n",
      "Free Bikes_y    17.8121      4.340      4.104      0.000       9.155      26.470\n",
      "==============================================================================\n",
      "Omnibus:                       19.892   Durbin-Watson:                   0.440\n",
      "Prob(Omnibus):                  0.000   Jarque-Bera (JB):               24.923\n",
      "Skew:                           1.375   Prob(JB):                     3.87e-06\n",
      "Kurtosis:                       3.990   Cond. No.                         1.00\n",
      "==============================================================================\n",
      "\n",
      "Notes:\n",
      "[1] R² is computed without centering (uncentered) since the model does not contain a constant.\n",
      "[2] Standard Errors assume that the covariance matrix of the errors is correctly specified.\n"
     ]
    }
   ],
   "source": [
    "print(print_model)"
   ]
  },
  {
   "cell_type": "markdown",
   "metadata": {},
   "source": [
    "Looking into the correlation of Free bikes and Review Count the following is apparent. \n",
    "1. The R-Squared indicates that 19.6% of the variance in Review Count is explain by Free Bikes.\n",
    "2. The Coefficient is 17.8121 and the low p-value associated with it indicates a possibility that this is statistically significant. This coefficient suggests that each additional unit in Free Bikes is associated with an increase of approximately 17.81 units in Review Count. "
   ]
  },
  {
   "cell_type": "markdown",
   "metadata": {},
   "source": [
    "# Stretch"
   ]
  },
  {
   "cell_type": "markdown",
   "metadata": {},
   "source": [
    "How can you turn the regression model into a classification model?"
   ]
  },
  {
   "cell_type": "code",
   "execution_count": null,
   "metadata": {},
   "outputs": [],
   "source": []
  }
 ],
 "metadata": {
  "kernelspec": {
   "display_name": "Python 3 (ipykernel)",
   "language": "python",
   "name": "python3"
  },
  "language_info": {
   "codemirror_mode": {
    "name": "ipython",
    "version": 3
   },
   "file_extension": ".py",
   "mimetype": "text/x-python",
   "name": "python",
   "nbconvert_exporter": "python",
   "pygments_lexer": "ipython3",
   "version": "3.11.5"
  }
 },
 "nbformat": 4,
 "nbformat_minor": 4
}
